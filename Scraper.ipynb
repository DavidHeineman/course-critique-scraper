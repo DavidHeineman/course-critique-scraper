{
 "cells": [
  {
   "cell_type": "code",
   "execution_count": 3,
   "metadata": {},
   "outputs": [],
   "source": [
    "import requests\n",
    "import urllib.request\n",
    "import time\n",
    "from bs4 import BeautifulSoup"
   ]
  },
  {
   "cell_type": "code",
   "execution_count": 157,
   "metadata": {},
   "outputs": [],
   "source": [
    "\"\"\"\n",
    "Input: String containing a GT class ID\n",
    "Returns: Array containing the GPA and different rates of a class\n",
    "\n",
    "Return: [GPA, %A, %B, %C, %D, %F, %W]\n",
    "\n",
    "\"\"\"\n",
    "def getInfo(classID):\n",
    "    idx = classID\n",
    "    url = 'https://critique.gatech.edu/course.php?id=' + idx\n",
    "    response = requests.get(url)\n",
    "    soup = BeautifulSoup(response.text, 'html.parser')\n",
    "    \n",
    "    h2 = soup.findAll('h2')\n",
    "    if (len(str(h2[0].contents)) <= 2):\n",
    "        raise Exception(idx + \" isn't in the Course Critique database\")\n",
    "    \n",
    "    entries = []\n",
    "    entriesNew = []\n",
    "    for entry in soup.findAll('td')[1:7]:\n",
    "        entries.append(entry)\n",
    "    for entry in entries:\n",
    "        entriesNew.append(str(entry).replace(\"</td>\", \"\")[4:])\n",
    "    nonWithdraws = 0\n",
    "    for x in range(1, 6):\n",
    "        entriesNew[x] = int(entriesNew[x])\n",
    "        nonWithdraws += entriesNew[x]\n",
    "    entriesNew.append(100 - nonWithdraws)\n",
    "    entriesNew[0] = float(entriesNew[0])\n",
    "    return entriesNew"
   ]
  },
  {
   "cell_type": "code",
   "execution_count": 230,
   "metadata": {},
   "outputs": [],
   "source": [
    "\"\"\"\n",
    "Prints the schedule of classes with GPAs and % in each category\n",
    "\n",
    "\"\"\"\n",
    "def difficulty(schedule, hours):\n",
    "    if (len(schedule) != len(hours)):\n",
    "        raise Exception('Schedule and hour lengths must be the same')\n",
    "    infos = []\n",
    "    print(\"\\t\\tGPA\\t%A\\t%B\\t%C\\t%D\\t%F\\t%W\\tHours\")\n",
    "    i = 0\n",
    "    for class_ in schedule:\n",
    "        info = getInfo(class_)\n",
    "        infos.append(info)\n",
    "        output = class_\n",
    "        if (len(output) < 8):\n",
    "            output += \"\\t\"\n",
    "        for info_ in info:\n",
    "            output = output + \"\\t\" + str(info_)\n",
    "        output += \"\\t\" + str(hours[i])\n",
    "        i+=1\n",
    "        print(output)\n",
    "        \n",
    "    classNum = len(schedule)\n",
    "    output = \"\\nAVG\\t\"\n",
    "    avgGPA = 0\n",
    "    for info in infos:\n",
    "        avgGPA += info[0]\n",
    "    avgGPA = avgGPA / classNum\n",
    "    output += str(\"\\t%.2f\" % avgGPA)\n",
    "    for x in range(1, 7):\n",
    "        total = 0\n",
    "        for info in infos:\n",
    "            total += info[x]\n",
    "        output = output + \"\\t\" + str(int(total / classNum))\n",
    "    output += \"\\t\" + str(sum(hours))\n",
    "    print(output)\n",
    "    \n",
    "    output = \"Weighted\"\n",
    "    avgGPA = 0\n",
    "    for x in range(0, len(infos)):\n",
    "        avgGPA += infos[x][0] * hours[x]\n",
    "    avgGPA = avgGPA / sum(hours)\n",
    "    output += str(\"\\t%.2f\" % avgGPA)\n",
    "    for x in range(1, 7):\n",
    "        total = 0\n",
    "        for j in range(0, len(infos)):\n",
    "            total += infos[j][x] * hours[j]\n",
    "        output = output + \"\\t\" + str(int(total / sum(hours)))\n",
    "    output += \"\\t\" + str(sum(hours))\n",
    "    print(output) \n",
    "    difficulty = (4 - avgGPA) * 50 + (sum(hours) - 10) * 5\n",
    "    print(\"\\nDifficulty (out of 100): \" + str(int(difficulty)))"
   ]
  },
  {
   "cell_type": "code",
   "execution_count": 231,
   "metadata": {},
   "outputs": [
    {
     "name": "stdout",
     "output_type": "stream",
     "text": [
      "\t\tGPA\t%A\t%B\t%C\t%D\t%F\t%W\tHours\n",
      "CS 1332\t\t2.95\t36\t30\t16\t6\t4\t8\t3\n",
      "CS 2050\t\t2.95\t34\t33\t19\t5\t3\t6\t3\n",
      "APPH 1040\t3.67\t73\t19\t4\t1\t1\t2\t2\n",
      "PHYS 2211\t2.82\t32\t30\t19\t7\t5\t7\t4\n",
      "ENGL 1102\t3.66\t72\t21\t3\t1\t1\t2\t3\n",
      "\n",
      "AVG\t\t3.21\t49\t26\t12\t4\t2\t5\t15\n",
      "Weighted\t3.15\t46\t27\t13\t4\t3\t5\t15\n",
      "\n",
      "Difficulty (out of 100): 67\n"
     ]
    }
   ],
   "source": [
    "fall2020 = [\"CS 1332\", \"CS 2050\", \"APPH 1040\", \"PHYS 2211\", \"ENGL 1102\"]\n",
    "hours2020 = [3, 3, 2, 4, 3]\n",
    "difficulty(fall2020, hours2020)"
   ]
  },
  {
   "cell_type": "code",
   "execution_count": 232,
   "metadata": {},
   "outputs": [
    {
     "name": "stdout",
     "output_type": "stream",
     "text": [
      "\t\tGPA\t%A\t%B\t%C\t%D\t%F\t%W\tHours\n",
      "MATH 3012\t3.0\t38\t27\t16\t5\t4\t10\t3\n",
      "CS 2340\t\t3.87\t88\t8\t1\t0\t0\t3\t3\n",
      "CS 3510\t\t3.16\t40\t30\t16\t2\t1\t11\t3\n",
      "CS 2110\t\t2.96\t36\t32\t17\t5\t4\t6\t4\n",
      "\n",
      "AVG\t\t3.25\t50\t24\t12\t3\t2\t7\t13\n",
      "Weighted\t3.23\t49\t24\t12\t3\t2\t7\t13\n",
      "\n",
      "Difficulty (out of 100): 53\n"
     ]
    }
   ],
   "source": [
    "spring2021 = [\"MATH 3012\", \"CS 2340\", \"CS 3510\", \"CS 2110\"]\n",
    "hours2021 = [3, 3, 3, 4]\n",
    "difficulty(spring2021, hours2021)"
   ]
  },
  {
   "cell_type": "code",
   "execution_count": 233,
   "metadata": {},
   "outputs": [
    {
     "name": "stdout",
     "output_type": "stream",
     "text": [
      "\t\tGPA\t%A\t%B\t%C\t%D\t%F\t%W\tHours\n",
      "PSYC 1101\t3.36\t53\t28\t9\t2\t1\t7\t3\n",
      "CS 4001\t\t3.59\t67\t25\t4\t1\t1\t2\t3\n",
      "MATH 3012\t3.0\t38\t27\t16\t5\t4\t10\t3\n",
      "CS 2340\t\t3.87\t88\t8\t1\t0\t0\t3\t3\n",
      "CS 3510\t\t3.16\t40\t30\t16\t2\t1\t11\t3\n",
      "\n",
      "AVG\t\t3.40\t57\t23\t9\t2\t1\t6\t15\n",
      "Weighted\t3.40\t57\t23\t9\t2\t1\t6\t15\n",
      "\n",
      "Difficulty (out of 100): 55\n"
     ]
    }
   ],
   "source": [
    "spring2021op2 = [\"PSYC 1101\", \"CS 4001\", \"MATH 3012\", \"CS 2340\", \"CS 3510\"]\n",
    "hours2021op2 = [3, 3, 3, 3, 3]\n",
    "difficulty(spring2021op2, hours2021op2)"
   ]
  },
  {
   "cell_type": "code",
   "execution_count": 234,
   "metadata": {},
   "outputs": [
    {
     "name": "stdout",
     "output_type": "stream",
     "text": [
      "\t\tGPA\t%A\t%B\t%C\t%D\t%F\t%W\tHours\n",
      "CS 2200\t\t3.08\t41\t27\t15\t4\t3\t10\t4\n",
      "CS 3600\t\t3.43\t60\t17\t7\t3\t2\t11\t3\n",
      "CS 4510\t\t3.34\t54\t25\t14\t1\t1\t5\t3\n",
      "CS 4641\t\t3.59\t59\t19\t3\t1\t1\t17\t3\n",
      "\n",
      "AVG\t\t3.36\t53\t22\t9\t2\t1\t10\t13\n",
      "Weighted\t3.34\t52\t22\t10\t2\t1\t10\t13\n",
      "\n",
      "Difficulty (out of 100): 48\n"
     ]
    }
   ],
   "source": [
    "fall2021 = [\"CS 2200\", \"CS 3600\", \"CS 4510\", \"CS 4641\"]\n",
    "hoursf2021 = [4, 3, 3, 3]\n",
    "difficulty(fall2021, hoursf2021)"
   ]
  }
 ],
 "metadata": {
  "kernelspec": {
   "display_name": "Python 3",
   "language": "python",
   "name": "python3"
  },
  "language_info": {
   "codemirror_mode": {
    "name": "ipython",
    "version": 3
   },
   "file_extension": ".py",
   "mimetype": "text/x-python",
   "name": "python",
   "nbconvert_exporter": "python",
   "pygments_lexer": "ipython3",
   "version": "3.8.4"
  }
 },
 "nbformat": 4,
 "nbformat_minor": 4
}
